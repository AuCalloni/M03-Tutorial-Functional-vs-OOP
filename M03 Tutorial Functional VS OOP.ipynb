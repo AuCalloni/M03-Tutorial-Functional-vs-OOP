{
 "cells": [
  {
   "metadata": {},
   "cell_type": "markdown",
   "source": "Given an array of size N containing only 0s, 1s, and 2s; sort the array in ascending order. This is my solution, and it's much less efficient than the sorting method used in the editorial.",
   "id": "e22c8298c13c739"
  },
  {
   "metadata": {
    "ExecuteTime": {
     "end_time": "2024-06-18T01:15:56.567776Z",
     "start_time": "2024-06-18T01:15:56.563766Z"
    }
   },
   "cell_type": "code",
   "source": [
    "class Solution:\n",
    "    def sort012(self,arr,n):\n",
    "        # code here\n",
    "        internal_array = arr\n",
    "\n",
    "        # Subtract one so our array does not go out of bounds\n",
    "        end = n - 1\n",
    "\n",
    "        # Initialize our outer loop to start at 0\n",
    "        outer_loop = 0\n",
    "\n",
    "        # This will essentially do two nested for loops and swap the values as the loop increments.\n",
    "        while outer_loop < end:\n",
    "            # Set the range to outer_loop + 1 or else we'll do a pointless comparison at the beginning of each for loop.\n",
    "            for inner_loop in range(outer_loop + 1, end + 1):\n",
    "                # Check if our outermost iterator's item is greater than anything else in the loop\n",
    "                if internal_array[outer_loop] > internal_array[inner_loop]:\n",
    "                    # Swap the elements\n",
    "                    internal_array[outer_loop], internal_array[inner_loop] = internal_array[inner_loop], internal_array[\n",
    "                        outer_loop]\n",
    "            # At this point our outermost item has to be the lowest possible value, so move on to the next item.\n",
    "            outer_loop += 1\n",
    "\n",
    "        return internal_array\n",
    "\n",
    "\n",
    "arr = [2, 2, 1, 0, 2, 0]\n",
    "\n",
    "arr = Solution().sort012(arr , 6)\n",
    "print(arr)\n",
    "\n"
   ],
   "id": "6669372808e8b474",
   "outputs": [
    {
     "name": "stdout",
     "output_type": "stream",
     "text": [
      "[0, 0, 1, 2, 2, 2]\n"
     ]
    }
   ],
   "execution_count": 24
  },
  {
   "metadata": {},
   "cell_type": "markdown",
   "source": "And this is the editorial solution. This is definitely much more efficient",
   "id": "75744d6761c7258a"
  },
  {
   "metadata": {
    "ExecuteTime": {
     "end_time": "2024-06-18T01:18:58.345460Z",
     "start_time": "2024-06-18T01:18:58.340942Z"
    }
   },
   "cell_type": "code",
   "source": [
    "class Solution:\n",
    "\n",
    "    #Function to sort an array of 0s, 1s, and 2s.\n",
    "    def sort012(self,arr,n):\n",
    "        low=0\n",
    "        high=n-1\n",
    "        mid=0\n",
    "\n",
    "        #iterating until mid pointer is less than or equal to high.\n",
    "        while mid<=high:\n",
    "\n",
    "            #if element at mid is 0, swap with element at low and move both pointers.\n",
    "            if arr[mid]==0:\n",
    "                arr[mid] , arr[low] = arr[low] , arr[mid]\n",
    "                mid+=1\n",
    "                low+=1\n",
    "\n",
    "            #if element at mid is 1, move mid pointer.\n",
    "            elif arr[mid]==1:\n",
    "                mid+=1\n",
    "\n",
    "            #if element at mid is 2, swap with element at high and move high pointer.\n",
    "            else:\n",
    "                arr[mid] , arr[high] = arr[high] , arr[mid]\n",
    "                high-=1\n",
    "\n",
    "\n",
    "arr = [2, 2, 1, 0, 2, 0]\n",
    "\n",
    "Solution().sort012(arr , 6)\n",
    "print(arr)\n"
   ],
   "id": "3f8cb41227b58d43",
   "outputs": [
    {
     "name": "stdout",
     "output_type": "stream",
     "text": [
      "[0, 0, 1, 2, 2, 2]\n"
     ]
    }
   ],
   "execution_count": 26
  },
  {
   "metadata": {},
   "cell_type": "markdown",
   "source": "Given a sorted array of size N and an integer K, find the position(0-based indexing) at which K is present in the array using binary search.\n",
   "id": "f411591caec86a03"
  },
  {
   "metadata": {
    "ExecuteTime": {
     "end_time": "2024-06-18T02:30:56.862633Z",
     "start_time": "2024-06-18T02:30:56.858182Z"
    }
   },
   "cell_type": "code",
   "source": [
    "class Solution:\n",
    "    # I've used a binary search before, so I just stuck to how I've done it before. I wouldn't specify an n as a\n",
    "    # parameter, rather I would set high = len(arr) - 1\n",
    "    def binarysearch(self, arr, n, k):\n",
    "        low = 0\n",
    "        high = n-1\n",
    "        mid = (high+low)//2\n",
    "\n",
    "        # If the low value ever increases to a point that his above the high value, the number does not exist in the\n",
    "        # array.\n",
    "        while low <= high:\n",
    "            # If the mid point is lower than our desired value, set our low end to 1 position higher than the mid point\n",
    "            if arr[mid] < k:\n",
    "                low = mid+1\n",
    "            # if the mid point is higher than our desired value, set our high end to 1 position lower than the mid point\n",
    "            elif arr[mid] > k:\n",
    "                high = mid-1\n",
    "            # if it's neither, we must be at our value\n",
    "            else:\n",
    "                return mid\n",
    "\n",
    "            # Cut the mid point in half for our next search\n",
    "            mid = (high + low)//2\n",
    "\n",
    "        # If we reach this point, the number does not exist.\n",
    "        return -1\n",
    "    \n",
    "arr = [1, 2, 4, 8, 9, 42, 78, 99]\n",
    "sol = Solution()\n",
    "print(sol.binarysearch(arr, len(arr) - 1, 1))"
   ],
   "id": "a969aff13b02b580",
   "outputs": [
    {
     "name": "stdout",
     "output_type": "stream",
     "text": [
      "0\n"
     ]
    }
   ],
   "execution_count": 29
  },
  {
   "metadata": {},
   "cell_type": "code",
   "outputs": [],
   "execution_count": null,
   "source": "",
   "id": "d50a208b2ab7430a"
  }
 ],
 "metadata": {
  "kernelspec": {
   "display_name": "Python 3",
   "language": "python",
   "name": "python3"
  },
  "language_info": {
   "codemirror_mode": {
    "name": "ipython",
    "version": 2
   },
   "file_extension": ".py",
   "mimetype": "text/x-python",
   "name": "python",
   "nbconvert_exporter": "python",
   "pygments_lexer": "ipython2",
   "version": "2.7.6"
  }
 },
 "nbformat": 4,
 "nbformat_minor": 5
}
